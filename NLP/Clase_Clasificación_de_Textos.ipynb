{
  "nbformat": 4,
  "nbformat_minor": 0,
  "metadata": {
    "colab": {
      "name": "Clase Clasificación de Textos.ipynb",
      "provenance": []
    },
    "kernelspec": {
      "name": "python3",
      "display_name": "Python 3"
    }
  },
  "cells": [
    {
      "cell_type": "markdown",
      "metadata": {
        "id": "9BtcHH1DTWPl"
      },
      "source": [
        "Veamos cómo funciona la bolsa de palabras con el texto que usamos para los N-gramas."
      ]
    },
    {
      "cell_type": "code",
      "metadata": {
        "id": "jwUJP0FdTRLX"
      },
      "source": [
        "import requests\n",
        "\n",
        "url = 'https://raw.githubusercontent.com/apimentelaUP/recursos/master/IslaMisteriosa.txt'\n",
        "page = requests.get(url)\n",
        "texto = page.text"
      ],
      "execution_count": null,
      "outputs": []
    },
    {
      "cell_type": "code",
      "metadata": {
        "id": "cGU0Vwo2a19s",
        "colab": {
          "base_uri": "https://localhost:8080/",
          "height": 54
        },
        "outputId": "d50bbfb8-a80e-489f-e6ab-2c556bdd648a"
      },
      "source": [
        "import nltk\n",
        "nltk.download(\"punkt\")\n",
        "\n",
        "tokens = nltk.word_tokenize(texto,\"spanish\")"
      ],
      "execution_count": null,
      "outputs": [
        {
          "output_type": "stream",
          "text": [
            "[nltk_data] Downloading package punkt to /root/nltk_data...\n",
            "[nltk_data]   Unzipping tokenizers/punkt.zip.\n"
          ],
          "name": "stdout"
        }
      ]
    },
    {
      "cell_type": "code",
      "metadata": {
        "id": "Ur_K-OzCbLgL"
      },
      "source": [
        "from collections import Counter\n",
        "\n",
        "BOW = Counter(tokens)\n",
        "\n",
        "BOW"
      ],
      "execution_count": null,
      "outputs": []
    },
    {
      "cell_type": "code",
      "metadata": {
        "id": "KcS2lyMRcEcu"
      },
      "source": [
        "BOW.most_common(20)"
      ],
      "execution_count": null,
      "outputs": []
    },
    {
      "cell_type": "code",
      "metadata": {
        "id": "fa08eL-Mct6m"
      },
      "source": [
        "nltk.download(\"stopwords\")\n",
        "\n",
        "palabras_funcionales = nltk.corpus.stopwords.words(\"spanish\")\n",
        "palabras_funcionales"
      ],
      "execution_count": null,
      "outputs": []
    },
    {
      "cell_type": "code",
      "metadata": {
        "id": "cKQyoxpbdGCe"
      },
      "source": [
        "tokens_alpha = [i for i in tokens if i.isalpha()]\n",
        "tokens_filtrados = [i for i in tokens_alpha if i not in palabras_funcionales]\n",
        "\n",
        "BOW = Counter(tokens_filtrados)\n",
        "BOW.most_common(20)"
      ],
      "execution_count": null,
      "outputs": []
    },
    {
      "cell_type": "code",
      "metadata": {
        "id": "RXWwi6YCeVKq",
        "colab": {
          "base_uri": "https://localhost:8080/",
          "height": 424
        },
        "outputId": "e2102d9e-f681-4543-b46e-2f09a39a1adb"
      },
      "source": [
        "import pandas as pd\n",
        "\n",
        "url = 'https://raw.githubusercontent.com/apimentelaUP/recursos/master/SPAM.csv'\n",
        "tabla_spam = pd.read_csv(url)\n",
        "\n",
        "tabla_spam"
      ],
      "execution_count": null,
      "outputs": [
        {
          "output_type": "execute_result",
          "data": {
            "text/html": [
              "<div>\n",
              "<style scoped>\n",
              "    .dataframe tbody tr th:only-of-type {\n",
              "        vertical-align: middle;\n",
              "    }\n",
              "\n",
              "    .dataframe tbody tr th {\n",
              "        vertical-align: top;\n",
              "    }\n",
              "\n",
              "    .dataframe thead th {\n",
              "        text-align: right;\n",
              "    }\n",
              "</style>\n",
              "<table border=\"1\" class=\"dataframe\">\n",
              "  <thead>\n",
              "    <tr style=\"text-align: right;\">\n",
              "      <th></th>\n",
              "      <th>Category</th>\n",
              "      <th>Message</th>\n",
              "    </tr>\n",
              "  </thead>\n",
              "  <tbody>\n",
              "    <tr>\n",
              "      <th>0</th>\n",
              "      <td>ham</td>\n",
              "      <td>Go until jurong point, crazy.. Available only ...</td>\n",
              "    </tr>\n",
              "    <tr>\n",
              "      <th>1</th>\n",
              "      <td>ham</td>\n",
              "      <td>Ok lar... Joking wif u oni...</td>\n",
              "    </tr>\n",
              "    <tr>\n",
              "      <th>2</th>\n",
              "      <td>spam</td>\n",
              "      <td>Free entry in 2 a wkly comp to win FA Cup fina...</td>\n",
              "    </tr>\n",
              "    <tr>\n",
              "      <th>3</th>\n",
              "      <td>ham</td>\n",
              "      <td>U dun say so early hor... U c already then say...</td>\n",
              "    </tr>\n",
              "    <tr>\n",
              "      <th>4</th>\n",
              "      <td>ham</td>\n",
              "      <td>Nah I don't think he goes to usf, he lives aro...</td>\n",
              "    </tr>\n",
              "    <tr>\n",
              "      <th>...</th>\n",
              "      <td>...</td>\n",
              "      <td>...</td>\n",
              "    </tr>\n",
              "    <tr>\n",
              "      <th>5567</th>\n",
              "      <td>spam</td>\n",
              "      <td>This is the 2nd time we have tried 2 contact u...</td>\n",
              "    </tr>\n",
              "    <tr>\n",
              "      <th>5568</th>\n",
              "      <td>ham</td>\n",
              "      <td>Will ü b going to esplanade fr home?</td>\n",
              "    </tr>\n",
              "    <tr>\n",
              "      <th>5569</th>\n",
              "      <td>ham</td>\n",
              "      <td>Pity, * was in mood for that. So...any other s...</td>\n",
              "    </tr>\n",
              "    <tr>\n",
              "      <th>5570</th>\n",
              "      <td>ham</td>\n",
              "      <td>The guy did some bitching but I acted like i'd...</td>\n",
              "    </tr>\n",
              "    <tr>\n",
              "      <th>5571</th>\n",
              "      <td>ham</td>\n",
              "      <td>Rofl. Its true to its name</td>\n",
              "    </tr>\n",
              "  </tbody>\n",
              "</table>\n",
              "<p>5572 rows × 2 columns</p>\n",
              "</div>"
            ],
            "text/plain": [
              "     Category                                            Message\n",
              "0         ham  Go until jurong point, crazy.. Available only ...\n",
              "1         ham                      Ok lar... Joking wif u oni...\n",
              "2        spam  Free entry in 2 a wkly comp to win FA Cup fina...\n",
              "3         ham  U dun say so early hor... U c already then say...\n",
              "4         ham  Nah I don't think he goes to usf, he lives aro...\n",
              "...       ...                                                ...\n",
              "5567     spam  This is the 2nd time we have tried 2 contact u...\n",
              "5568      ham               Will ü b going to esplanade fr home?\n",
              "5569      ham  Pity, * was in mood for that. So...any other s...\n",
              "5570      ham  The guy did some bitching but I acted like i'd...\n",
              "5571      ham                         Rofl. Its true to its name\n",
              "\n",
              "[5572 rows x 2 columns]"
            ]
          },
          "metadata": {
            "tags": []
          },
          "execution_count": 7
        }
      ]
    },
    {
      "cell_type": "code",
      "metadata": {
        "id": "ciGjJ85KfyYQ"
      },
      "source": [
        "from sklearn.model_selection import train_test_split\n",
        "\n",
        "train, test = train_test_split(tabla_spam,test_size=0.3)\n",
        "\n",
        "palabras_funcionales = nltk.corpus.stopwords.words(\"english\")"
      ],
      "execution_count": null,
      "outputs": []
    },
    {
      "cell_type": "code",
      "metadata": {
        "id": "_17IOqDTgREz"
      },
      "source": [
        "BOW_train = []\n",
        "\n",
        "for texto in train[\"Message\"]:\n",
        "  tokens=nltk.word_tokenize(texto)\n",
        "  #tokens = [i for i in tokens if i.isalpha() and i not in palabras_funcionales]\n",
        "  BOW_train.append(Counter(tokens))"
      ],
      "execution_count": null,
      "outputs": []
    },
    {
      "cell_type": "code",
      "metadata": {
        "id": "2ymST2yvg7WW",
        "colab": {
          "base_uri": "https://localhost:8080/",
          "height": 35
        },
        "outputId": "6bded50a-74b1-4654-8406-e516d612c85a"
      },
      "source": [
        "from sklearn.feature_extraction import DictVectorizer\n",
        "from sklearn.preprocessing import LabelEncoder\n",
        "\n",
        "codificador_entrada = DictVectorizer()\n",
        "codificador_salida = LabelEncoder()\n",
        "\n",
        "X = codificador_entrada.fit_transform(BOW_train)\n",
        "y = codificador_salida.fit_transform(train[\"Category\"])\n",
        "\n",
        "from sklearn.naive_bayes import MultinomialNB\n",
        "\n",
        "clasificador = MultinomialNB()\n",
        "clasificador.fit(X,y)"
      ],
      "execution_count": null,
      "outputs": [
        {
          "output_type": "execute_result",
          "data": {
            "text/plain": [
              "MultinomialNB(alpha=1.0, class_prior=None, fit_prior=True)"
            ]
          },
          "metadata": {
            "tags": []
          },
          "execution_count": 10
        }
      ]
    },
    {
      "cell_type": "code",
      "metadata": {
        "id": "1vFSlPz2i4xg"
      },
      "source": [
        "BOW_test = []\n",
        "for texto in test[\"Message\"]:\n",
        "  tokens = nltk.word_tokenize(texto)\n",
        "  #tokens = [i for i in tokens if i.isalpha() and i not in palabras_funcionales]\n",
        "  BOW_test.append(Counter(tokens))"
      ],
      "execution_count": null,
      "outputs": []
    },
    {
      "cell_type": "code",
      "metadata": {
        "id": "8EAAYnAHjo1j"
      },
      "source": [
        "X_test = codificador_entrada.transform(BOW_test)\n",
        "\n",
        "y_pred = clasificador.predict(X_test)"
      ],
      "execution_count": null,
      "outputs": []
    },
    {
      "cell_type": "code",
      "metadata": {
        "id": "6LHJFSVOkokr",
        "colab": {
          "base_uri": "https://localhost:8080/",
          "height": 90
        },
        "outputId": "9fc5ea94-cb67-4165-cd75-fe1d4f6bafcb"
      },
      "source": [
        "from sklearn.metrics import accuracy_score\n",
        "from sklearn.metrics import precision_score\n",
        "from sklearn.metrics import recall_score\n",
        "from sklearn.metrics import f1_score\n",
        "\n",
        "y_true = codificador_salida.transform(test[\"Category\"])\n",
        "\n",
        "print(\"Exactitud:\",accuracy_score(y_true,y_pred))\n",
        "print(\"Precision:\",precision_score(y_true,y_pred,average=\"macro\"))\n",
        "print(\"Exhaustividad:\",recall_score(y_true,y_pred,average=\"macro\"))\n",
        "print(\"F1 score:\",f1_score(y_true,y_pred,average=\"macro\"))"
      ],
      "execution_count": null,
      "outputs": [
        {
          "output_type": "stream",
          "text": [
            "Exactitud: 0.9808612440191388\n",
            "Precision: 0.981267217630854\n",
            "Exhaustividad: 0.9412223905955825\n",
            "F1 score: 0.9599616858237547\n"
          ],
          "name": "stdout"
        }
      ]
    },
    {
      "cell_type": "code",
      "metadata": {
        "id": "NhhGSTiyBaGf"
      },
      "source": [
        "def mas_informativas_para_clase(codificador, clasificador, clase, binario=True, n=10):\n",
        "    clase_id = list(clasificador.classes_).index(clase)  # se obtiene el índice de la clase que se quiere analizar\n",
        "    caracteristicas = codificador.get_feature_names()  # la función maneja los nombres originales de las características\n",
        "    mejores = sorted(zip(clasificador.coef_[clase_id], caracteristicas))[-n:] # Se ordenan, solo queremos las mejores N\n",
        "    if binario:\n",
        "      peores = sorted(zip(clasificador.coef_[clase_id], caracteristicas))[:n] # Se ordenan, solo queremos las peores N\n",
        "      for coeficiente, caracteristica in peores:\n",
        "        print(1, caracteristica, coeficiente)\n",
        "      print() \n",
        "    for coeficiente, caracteristica in mejores:\n",
        "        print(clase, caracteristica, coeficiente)"
      ],
      "execution_count": null,
      "outputs": []
    },
    {
      "cell_type": "code",
      "metadata": {
        "id": "88uQCSYlB0P3",
        "colab": {
          "base_uri": "https://localhost:8080/",
          "height": 403
        },
        "outputId": "05c61f43-c50a-4178-d52b-a3e515e5afa7"
      },
      "source": [
        "mas_informativas_para_clase(codificador_entrada,clasificador,0)"
      ],
      "execution_count": null,
      "outputs": [
        {
          "output_type": "stream",
          "text": [
            "1 ''OK -10.071963702508029\n",
            "1 'Comfort -10.071963702508029\n",
            "1 'HEART -10.071963702508029\n",
            "1 'IF -10.071963702508029\n",
            "1 'Luxury -10.071963702508029\n",
            "1 'MARRIED -10.071963702508029\n",
            "1 'Maangalyam -10.071963702508029\n",
            "1 'Melle -10.071963702508029\n",
            "1 'Need -10.071963702508029\n",
            "1 'RE -10.071963702508029\n",
            "\n",
            "0 you -5.251682136902992\n",
            "0 or -5.235681795556551\n",
            "0 your -5.227776616049438\n",
            "0 call -5.219933438588412\n",
            "0 & -5.204429252052447\n",
            "0 a -4.682891972691528\n",
            "0 , -4.599693028836554\n",
            "0 ! -4.199845913032613\n",
            "0 to -4.058248546465227\n",
            "0 . -3.5736815530315953\n"
          ],
          "name": "stdout"
        }
      ]
    }
  ]
}