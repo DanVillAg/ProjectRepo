{
  "nbformat": 4,
  "nbformat_minor": 0,
  "metadata": {
    "colab": {
      "name": "Equipo4.ipynb",
      "provenance": []
    },
    "kernelspec": {
      "name": "python3",
      "display_name": "Python 3"
    }
  },
  "cells": [
    {
      "cell_type": "markdown",
      "metadata": {
        "id": "cEb4qYyTRWG4"
      },
      "source": [
        "### Equipo 4\n",
        "\n",
        "\n",
        "\n",
        "*   Aguilar González, Sarahí\n",
        "*   Contreras Olivas, Daniel Adrián\n",
        "*   Gutiérrez Gómez, José Ramón\n",
        "*   Jaime Serrano, Luis Guillermo\n",
        "*   Villegas Aguilar, Daniel\n",
        "\n",
        "\n"
      ]
    },
    {
      "cell_type": "markdown",
      "metadata": {
        "id": "JxBi25Gv0wST"
      },
      "source": [
        "Implementar un sistema de clasificación de textos con los siguientes datos:"
      ]
    },
    {
      "cell_type": "code",
      "metadata": {
        "id": "B_8cAyMwtd9q",
        "colab": {
          "base_uri": "https://localhost:8080/",
          "height": 408
        },
        "outputId": "05472d3d-ff77-434b-dae3-728552179fa5"
      },
      "source": [
        "import pandas as pd\n",
        "\n",
        "url = 'https://raw.githubusercontent.com/apimentelaUP/recursos/master/clasificacion_materias.csv'\n",
        "tabla_materias = pd.read_csv(url)\n",
        "\n",
        "tabla_materias"
      ],
      "execution_count": null,
      "outputs": [
        {
          "output_type": "execute_result",
          "data": {
            "text/html": [
              "<div>\n",
              "<style scoped>\n",
              "    .dataframe tbody tr th:only-of-type {\n",
              "        vertical-align: middle;\n",
              "    }\n",
              "\n",
              "    .dataframe tbody tr th {\n",
              "        vertical-align: top;\n",
              "    }\n",
              "\n",
              "    .dataframe thead th {\n",
              "        text-align: right;\n",
              "    }\n",
              "</style>\n",
              "<table border=\"1\" class=\"dataframe\">\n",
              "  <thead>\n",
              "    <tr style=\"text-align: right;\">\n",
              "      <th></th>\n",
              "      <th>SUBJECT</th>\n",
              "      <th>CONTENTS</th>\n",
              "    </tr>\n",
              "  </thead>\n",
              "  <tbody>\n",
              "    <tr>\n",
              "      <th>0</th>\n",
              "      <td>accounts/</td>\n",
              "      <td>2 0 Accountancy : Company Accounts and Analysi...</td>\n",
              "    </tr>\n",
              "    <tr>\n",
              "      <th>1</th>\n",
              "      <td>physics/</td>\n",
              "      <td>l Physics TABLE 1 1 . 1 WORK FUNCTIONS OF SOME...</td>\n",
              "    </tr>\n",
              "    <tr>\n",
              "      <th>2</th>\n",
              "      <td>physics/</td>\n",
              "      <td>l Physics TABLE 1 1 . 1 WORK FUNCTIONS OF SOME...</td>\n",
              "    </tr>\n",
              "    <tr>\n",
              "      <th>3</th>\n",
              "      <td>biology/</td>\n",
              "      <td>334 Figure 22.3 Diagrammatic View of the posit...</td>\n",
              "    </tr>\n",
              "    <tr>\n",
              "      <th>4</th>\n",
              "      <td>physics/</td>\n",
              "      <td>382 i Physics is the same measured along any r...</td>\n",
              "    </tr>\n",
              "    <tr>\n",
              "      <th>...</th>\n",
              "      <td>...</td>\n",
              "      <td>...</td>\n",
              "    </tr>\n",
              "    <tr>\n",
              "      <th>1781</th>\n",
              "      <td>physics/</td>\n",
              "      <td>376 l Physics I‘. O H E: III dominates over th...</td>\n",
              "    </tr>\n",
              "    <tr>\n",
              "      <th>1782</th>\n",
              "      <td>physics/</td>\n",
              "      <td>198 PHYSICS recorded in the spring balance is ...</td>\n",
              "    </tr>\n",
              "    <tr>\n",
              "      <th>1783</th>\n",
              "      <td>physics/</td>\n",
              "      <td>392 15.11 15.12 15.13 15.14 15.15 15.16 15.17 ...</td>\n",
              "    </tr>\n",
              "    <tr>\n",
              "      <th>1784</th>\n",
              "      <td>physics/</td>\n",
              "      <td>34 Pl IYSICS l or, T= k\\/: 9 Note that value o...</td>\n",
              "    </tr>\n",
              "    <tr>\n",
              "      <th>1785</th>\n",
              "      <td>biology/</td>\n",
              "      <td>F2 generation Figure 5.3 Diagrammatic represen...</td>\n",
              "    </tr>\n",
              "  </tbody>\n",
              "</table>\n",
              "<p>1786 rows × 2 columns</p>\n",
              "</div>"
            ],
            "text/plain": [
              "        SUBJECT                                           CONTENTS\n",
              "0     accounts/  2 0 Accountancy : Company Accounts and Analysi...\n",
              "1      physics/  l Physics TABLE 1 1 . 1 WORK FUNCTIONS OF SOME...\n",
              "2      physics/  l Physics TABLE 1 1 . 1 WORK FUNCTIONS OF SOME...\n",
              "3      biology/  334 Figure 22.3 Diagrammatic View of the posit...\n",
              "4      physics/  382 i Physics is the same measured along any r...\n",
              "...         ...                                                ...\n",
              "1781   physics/  376 l Physics I‘. O H E: III dominates over th...\n",
              "1782   physics/  198 PHYSICS recorded in the spring balance is ...\n",
              "1783   physics/  392 15.11 15.12 15.13 15.14 15.15 15.16 15.17 ...\n",
              "1784   physics/  34 Pl IYSICS l or, T= k\\/: 9 Note that value o...\n",
              "1785   biology/  F2 generation Figure 5.3 Diagrammatic represen...\n",
              "\n",
              "[1786 rows x 2 columns]"
            ]
          },
          "metadata": {
            "tags": []
          },
          "execution_count": 1
        }
      ]
    },
    {
      "cell_type": "markdown",
      "metadata": {
        "id": "jpO7gGuERxkQ"
      },
      "source": [
        "### Limpiar Texto"
      ]
    },
    {
      "cell_type": "code",
      "metadata": {
        "id": "62diNu2DoBoV",
        "colab": {
          "base_uri": "https://localhost:8080/",
          "height": 52
        },
        "outputId": "dfbaebd0-ed17-4797-b769-1d22fd306897"
      },
      "source": [
        "import re \n",
        "import nltk\n",
        "nltk.download('stopwords')\n",
        "from nltk.corpus import stopwords \n",
        "from nltk.stem.porter import PorterStemmer"
      ],
      "execution_count": null,
      "outputs": [
        {
          "output_type": "stream",
          "text": [
            "[nltk_data] Downloading package stopwords to /root/nltk_data...\n",
            "[nltk_data]   Package stopwords is already up-to-date!\n"
          ],
          "name": "stdout"
        }
      ]
    },
    {
      "cell_type": "code",
      "metadata": {
        "id": "e49E7engo8xy"
      },
      "source": [
        "text = tabla_materias\n",
        "corpus = []\n",
        "\n",
        "for i in range(0, 1000): \n",
        "    review = re.sub('[^a-zA-Z]', ' ', text['CONTENTS'][i]) \n",
        "    review = review.lower()\n",
        "    review = review.split()\n",
        "    ps = PorterStemmer()\n",
        "    review = [ps.stem(word) \n",
        "    \n",
        "for word in review if not word in set(stopwords.words('english'))] \n",
        "    review = ' '.join(review)\n",
        "    corpus.append(review)"
      ],
      "execution_count": null,
      "outputs": []
    },
    {
      "cell_type": "markdown",
      "metadata": {
        "id": "FresUM_iR7SV"
      },
      "source": [
        "### Tokenize: Get model from the SPAM class"
      ]
    },
    {
      "cell_type": "code",
      "metadata": {
        "id": "pW3OfCLiW8Xz"
      },
      "source": [
        "import requests\n",
        "\n",
        "url = 'https://raw.githubusercontent.com/apimentelaUP/recursos/master/SPAM.csv'\n",
        "page = requests.get(url)\n",
        "texto = page.text"
      ],
      "execution_count": null,
      "outputs": []
    },
    {
      "cell_type": "code",
      "metadata": {
        "id": "bmD47V_AR8bo",
        "colab": {
          "base_uri": "https://localhost:8080/",
          "height": 52
        },
        "outputId": "972a2284-8df8-41cb-af9d-9d01c4802e67"
      },
      "source": [
        "nltk.download(\"punkt\")\n",
        "\n",
        "tokens = nltk.word_tokenize(texto,\"english\")"
      ],
      "execution_count": null,
      "outputs": [
        {
          "output_type": "stream",
          "text": [
            "[nltk_data] Downloading package punkt to /root/nltk_data...\n",
            "[nltk_data]   Package punkt is already up-to-date!\n"
          ],
          "name": "stdout"
        }
      ]
    },
    {
      "cell_type": "code",
      "metadata": {
        "id": "BVUJnA1wR-DW"
      },
      "source": [
        "from collections import Counter\n",
        "\n",
        "BOW = Counter(tokens)"
      ],
      "execution_count": null,
      "outputs": []
    },
    {
      "cell_type": "markdown",
      "metadata": {
        "id": "SSyTKMkMSCVV"
      },
      "source": [
        "### Train, Test, Split"
      ]
    },
    {
      "cell_type": "code",
      "metadata": {
        "id": "p9uMemFGSDFV"
      },
      "source": [
        "from sklearn.model_selection import train_test_split\n",
        "\n",
        "train, test = train_test_split(text,test_size=0.3)\n",
        "\n",
        "palabras_funcionales = nltk.corpus.stopwords.words(\"english\")"
      ],
      "execution_count": null,
      "outputs": []
    },
    {
      "cell_type": "markdown",
      "metadata": {
        "id": "D84RiDXvSHgq"
      },
      "source": [
        "### Train"
      ]
    },
    {
      "cell_type": "code",
      "metadata": {
        "id": "149-S5oHSHQS"
      },
      "source": [
        "BOW_train = []\n",
        "\n",
        "for texto in train[\"CONTENTS\"]:\n",
        "  tokens=nltk.word_tokenize(texto)\n",
        "  \n",
        "  BOW_train.append(Counter(tokens))"
      ],
      "execution_count": null,
      "outputs": []
    },
    {
      "cell_type": "code",
      "metadata": {
        "id": "ZLDU0SroSKek",
        "colab": {
          "base_uri": "https://localhost:8080/",
          "height": 34
        },
        "outputId": "51991951-7c90-47d3-e476-1226f196cbb6"
      },
      "source": [
        "from sklearn.feature_extraction import DictVectorizer\n",
        "from sklearn.preprocessing import LabelEncoder\n",
        "\n",
        "codificador_entrada = DictVectorizer()\n",
        "codificador_salida = LabelEncoder()\n",
        "\n",
        "X = codificador_entrada.fit_transform(BOW_train)\n",
        "y = codificador_salida.fit_transform(train[\"SUBJECT\"])\n",
        "\n",
        "from sklearn.naive_bayes import MultinomialNB\n",
        "\n",
        "clasificador = MultinomialNB()\n",
        "clasificador.fit(X,y)"
      ],
      "execution_count": null,
      "outputs": [
        {
          "output_type": "execute_result",
          "data": {
            "text/plain": [
              "MultinomialNB(alpha=1.0, class_prior=None, fit_prior=True)"
            ]
          },
          "metadata": {
            "tags": []
          },
          "execution_count": 16
        }
      ]
    },
    {
      "cell_type": "markdown",
      "metadata": {
        "id": "qtHnyZooSNhW"
      },
      "source": [
        "### Test"
      ]
    },
    {
      "cell_type": "code",
      "metadata": {
        "id": "d7-W1c8-SOP5"
      },
      "source": [
        "BOW_test = []\n",
        "for texto in test[\"CONTENTS\"]:\n",
        "  tokens = nltk.word_tokenize(texto)\n",
        "\n",
        "  BOW_test.append(Counter(tokens))"
      ],
      "execution_count": null,
      "outputs": []
    },
    {
      "cell_type": "code",
      "metadata": {
        "id": "3Vxdmfx_SQnq"
      },
      "source": [
        "X_test = codificador_entrada.transform(BOW_test)\n",
        "\n",
        "y_pred = clasificador.predict(X_test)"
      ],
      "execution_count": null,
      "outputs": []
    },
    {
      "cell_type": "markdown",
      "metadata": {
        "id": "KJRs-7LXSS0M"
      },
      "source": [
        "### Results"
      ]
    },
    {
      "cell_type": "code",
      "metadata": {
        "id": "BiiAIdf9SVBh",
        "colab": {
          "base_uri": "https://localhost:8080/",
          "height": 86
        },
        "outputId": "aa715170-d707-4272-caa7-93435a1324c0"
      },
      "source": [
        "from sklearn.metrics import accuracy_score\n",
        "from sklearn.metrics import precision_score\n",
        "from sklearn.metrics import recall_score\n",
        "from sklearn.metrics import f1_score\n",
        "\n",
        "y_true = codificador_salida.transform(test[\"SUBJECT\"])\n",
        "\n",
        "print(\"Exactitud:\",accuracy_score(y_true,y_pred))\n",
        "print(\"Precision:\",precision_score(y_true,y_pred,average=\"macro\"))\n",
        "print(\"Exhaustividad:\",recall_score(y_true,y_pred,average=\"macro\"))\n",
        "print(\"F1 score:\",f1_score(y_true,y_pred,average=\"macro\"))"
      ],
      "execution_count": null,
      "outputs": [
        {
          "output_type": "stream",
          "text": [
            "Exactitud: 0.9832089552238806\n",
            "Precision: 0.9876412429378532\n",
            "Exhaustividad: 0.9207184325108853\n",
            "F1 score: 0.9470494880387899\n"
          ],
          "name": "stdout"
        }
      ]
    }
  ]
}